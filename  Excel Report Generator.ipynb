{
 "cells": [
  {
   "cell_type": "code",
   "execution_count": 1,
   "id": "108477e6",
   "metadata": {},
   "outputs": [
    {
     "data": {
      "text/plain": [
       "<Figure size 600x400 with 0 Axes>"
      ]
     },
     "metadata": {},
     "output_type": "display_data"
    }
   ],
   "source": [
    "import pandas as pd\n",
    "import matplotlib.pyplot as plt\n",
    "from tkinter import Tk, filedialog, Button, Label\n",
    "from openpyxl import load_workbook\n",
    "from openpyxl.styles import Font\n",
    "import os\n",
    "\n",
    "def load_csv():\n",
    "    file_path = filedialog.askopenfilename(filetypes=[(\"CSV files\", \"*.csv\")])\n",
    "    if file_path:\n",
    "        df = pd.read_csv(file_path)\n",
    "        generate_report(df, file_path)\n",
    "\n",
    "def generate_report(df, file_path):\n",
    "    # Create Pivot Table (example: Sum of \"Sales\" by \"Category\")\n",
    "    if \"Category\" in df.columns and \"Sales\" in df.columns:\n",
    "        pivot = pd.pivot_table(df, values=\"Sales\", index=\"Category\", aggfunc=\"sum\")\n",
    "    else:\n",
    "        pivot = df.describe()  # Fallback if no suitable columns\n",
    "\n",
    "    # Save pivot table to Excel\n",
    "    output_file = filedialog.asksaveasfilename(defaultextension=\".xlsx\",\n",
    "                                               filetypes=[(\"Excel files\", \"*.xlsx\")])\n",
    "    if not output_file:\n",
    "        return\n",
    "\n",
    "    pivot.to_excel(output_file, sheet_name=\"Summary\")\n",
    "\n",
    "    # Add a chart\n",
    "    plt.figure(figsize=(6,4))\n",
    "    pivot.plot(kind=\"bar\")\n",
    "    plt.title(\"Summary Report\")\n",
    "    chart_file = \"temp_chart.png\"\n",
    "    plt.savefig(chart_file)\n",
    "    plt.close()\n",
    "\n",
    "    # Open Excel and insert chart + formatting\n",
    "    wb = load_workbook(output_file)\n",
    "    ws = wb[\"Summary\"]\n",
    "\n",
    "    # Add styles (bold headers)\n",
    "    for cell in ws[1]:\n",
    "        cell.font = Font(bold=True)\n",
    "\n",
    "    # Insert chart image\n",
    "    from openpyxl.drawing.image import Image\n",
    "    img = Image(chart_file)\n",
    "    ws.add_image(img, \"E5\")\n",
    "\n",
    "    # Save workbook\n",
    "    wb.save(output_file)\n",
    "    os.remove(chart_file)\n",
    "\n",
    "    status_label.config(text=f\"Report saved: {output_file}\")\n",
    "\n",
    "# Tkinter GUI\n",
    "root = Tk()\n",
    "root.title(\"Excel Report Generator\")\n",
    "root.geometry(\"400x200\")\n",
    "\n",
    "Label(root, text=\"Upload CSV and Generate Excel Report\", font=(\"Arial\", 12)).pack(pady=10)\n",
    "Button(root, text=\"Upload CSV\", command=load_csv, width=20, bg=\"lightblue\").pack(pady=5)\n",
    "status_label = Label(root, text=\"\", fg=\"green\")\n",
    "status_label.pack(pady=10)\n",
    "\n",
    "root.mainloop()"
   ]
  },
  {
   "cell_type": "code",
   "execution_count": null,
   "id": "efa54434",
   "metadata": {},
   "outputs": [],
   "source": []
  }
 ],
 "metadata": {
  "kernelspec": {
   "display_name": "Python 3 (ipykernel)",
   "language": "python",
   "name": "python3"
  },
  "language_info": {
   "codemirror_mode": {
    "name": "ipython",
    "version": 3
   },
   "file_extension": ".py",
   "mimetype": "text/x-python",
   "name": "python",
   "nbconvert_exporter": "python",
   "pygments_lexer": "ipython3",
   "version": "3.11.4"
  }
 },
 "nbformat": 4,
 "nbformat_minor": 5
}
